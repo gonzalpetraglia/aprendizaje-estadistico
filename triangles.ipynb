{
 "cells": [
  {
   "cell_type": "code",
   "execution_count": 6,
   "metadata": {},
   "outputs": [
    {
     "name": "stdout",
     "output_type": "stream",
     "text": [
      "[0.53682607 0.11083488 0.00531382 0.1428374  0.87757989 0.07205093\n",
      " 0.50928999 0.48332986 0.30985708 0.46080869 0.35238125 0.26310407\n",
      " 0.36689365 0.60773959 0.07286601 0.23142983 0.9163093  0.64843754\n",
      " 0.26973166 0.5471248  0.31010021 0.99471933 0.43172113 0.62723901\n",
      " 0.4754238  0.61736031 0.58931614 0.24052026 0.83928556 0.4214408\n",
      " 0.70497279 0.5513229  0.93195505 0.68713261 0.12209293 0.76987397\n",
      " 0.7782664  0.89297026 0.24502645 0.45489584 0.97141348 0.67617933\n",
      " 0.23177045 0.46812886 0.06907114 0.10349357 0.27423957 0.6188639\n",
      " 0.03784583 0.31510775 0.7427233  0.8738924  0.97433166 0.1362486\n",
      " 0.79826405 0.31624953 0.14460373 0.75340974 0.31868641 0.8379663\n",
      " 0.98319404 0.90594939 0.72974501 0.42108336 0.39924014 0.03810757\n",
      " 0.13694542 0.29553446 0.08611743 0.50883078 0.70652917 0.13063936\n",
      " 0.44216039 0.17088259 0.29133453 0.80198473 0.41958908 0.36053882\n",
      " 0.69687179 0.22863448 0.88094346 0.33438822 0.5561645  0.15019251\n",
      " 0.55182899 0.71516598 0.95037518 0.35460915 0.62718697 0.54495291\n",
      " 0.14232882 0.46244058 0.56361907 0.44681348 0.60483893 0.73079843\n",
      " 0.85543054 0.86498498 0.29614845 0.95283651]\n"
     ]
    }
   ],
   "source": [
    "import numpy as np\n",
    "xs = np.random.rand(100)\n",
    "\n",
    "print xs"
   ]
  },
  {
   "cell_type": "code",
   "execution_count": 11,
   "metadata": {},
   "outputs": [],
   "source": [
    "N = 10\n",
    "\n",
    "def gen_bottom_triangle_point():\n",
    "    def f(x):\n",
    "        if 0 <= x <= 0.5:\n",
    "            return 2 * x\n",
    "        elif 0.5 < x <= 1:\n",
    "            return -2 * x + 2\n",
    "        else:\n",
    "            raise Exception\n",
    "        \n",
    "    x = np.random.random()\n",
    "    y = np.random.random()\n",
    "    while y > f(x):\n",
    "        x = np.random.random()\n",
    "        y = np.random.random()\n",
    "    return x, y\n",
    "    \n",
    "points = [gen_bottom_triangle_point() for i in range(N)]\n",
    "\n",
    "bottom_triangle_points = []\n",
    "top_triangle_points = []\n",
    "for point in points:\n",
    "    if np.random.random() < 0.5:\n",
    "        bottom_triangle_points.append(point)\n",
    "    else:\n",
    "        x, y = point\n",
    "        transformed_point = (x, 1 - y)\n",
    "        top_triangle_points.append(transformed_point)\n",
    "\n",
    "\n"
   ]
  },
  {
   "cell_type": "code",
   "execution_count": 12,
   "metadata": {},
   "outputs": [
    {
     "data": {
      "text/plain": [
       "([(0.42139482150275975, 0.6056034377248),\n",
       "  (0.2594911635485194, 0.8483373817589641),\n",
       "  (0.48566287831013977, 0.26234695834724664),\n",
       "  (0.4787309817979709, 0.4794538636555895),\n",
       "  (0.5012176682105156, 0.7671753544514562)],\n",
       " [(0.49256346777103654, 0.6655356393040137),\n",
       "  (0.6161459153303724, 0.5562187715434495),\n",
       "  (0.5259643091689747, 0.3409432329289329),\n",
       "  (0.500786859736901, 0.005219964630161833),\n",
       "  (0.5678538331759159, 0.7119275835753449)])"
      ]
     },
     "execution_count": 12,
     "metadata": {},
     "output_type": "execute_result"
    }
   ],
   "source": [
    "top_triangle_points, bottom_triangle_points\n"
   ]
  },
  {
   "cell_type": "code",
   "execution_count": null,
   "metadata": {},
   "outputs": [],
   "source": []
  }
 ],
 "metadata": {
  "kernelspec": {
   "display_name": "Python 2",
   "language": "python",
   "name": "python2"
  },
  "language_info": {
   "codemirror_mode": {
    "name": "ipython",
    "version": 2
   },
   "file_extension": ".py",
   "mimetype": "text/x-python",
   "name": "python",
   "nbconvert_exporter": "python",
   "pygments_lexer": "ipython2",
   "version": "2.7.12"
  }
 },
 "nbformat": 4,
 "nbformat_minor": 2
}
